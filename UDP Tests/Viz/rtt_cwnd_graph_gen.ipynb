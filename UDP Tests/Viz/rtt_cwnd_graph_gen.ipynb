{
 "cells": [
  {
   "cell_type": "code",
   "execution_count": null,
   "metadata": {},
   "outputs": [],
   "source": [
    "import numpy as np\n",
    "import pandas as pd\n",
    "import matplotlib.pyplot as plt\n",
    "import matplotlib.ticker as ticker\n",
    "import seaborn as sns\n",
    "\n",
    "\n",
    "import time\n",
    "import math\n",
    "import random\n",
    "import re\n",
    "import os\n",
    "import sys\n",
    "\n",
    "\n",
    "from utils.util import find_files_with_extension\n",
    "from utils.util import  get_dataframe_from_filepath,calculate_statistics, extract_unique_mbps_and_ms\n",
    "from utils.util import remove_outliers_iqr, comma_format, create_directory_if_not_exists,print_rtt_stats,save_rtt_stats,return_rtt_stats"
   ]
  },
  {
   "cell_type": "code",
   "execution_count": null,
   "metadata": {},
   "outputs": [],
   "source": [
    "# Load data\n",
    "mainpth=\"../data/data_2025-03-19-01-12-25\"\n",
    "\n",
    "graph_directory = os.path.join(mainpth, \"Graphs\")\n",
    "create_directory_if_not_exists(graph_directory)\n",
    "\n",
    "stats_directory = os.path.join(mainpth, \"Stats\")\n",
    "create_directory_if_not_exists(stats_directory)\n",
    "\n",
    "\n",
    "folderpaths = [mainpth+'/client1_data',mainpth+'/client2_data']\n",
    "filenames, filepaths, filedict = find_files_with_extension(folderpaths, '.log')\n"
   ]
  },
  {
   "cell_type": "code",
   "execution_count": null,
   "metadata": {},
   "outputs": [],
   "source": [
    "filedict"
   ]
  },
  {
   "cell_type": "code",
   "execution_count": null,
   "metadata": {},
   "outputs": [],
   "source": [
    "folderpaths"
   ]
  },
  {
   "cell_type": "code",
   "execution_count": null,
   "metadata": {},
   "outputs": [],
   "source": [
    "# Call the function and print unique combinations\n",
    "unique_combinations = extract_unique_mbps_and_ms(folderpaths)\n",
    "print(\"Unique Mbps and ms Combinations:\")\n",
    "for mbps, ms in sorted(unique_combinations):\n",
    "    print(f'{mbps} Mbps, {ms} ms')\n"
   ]
  },
  {
   "cell_type": "code",
   "execution_count": null,
   "metadata": {},
   "outputs": [],
   "source": [
    "mbps , ms = list(unique_combinations)[0]\n",
    "net_settings = f'{mbps}_Mbps_{ms}_ms'\n",
    "print(net_settings)"
   ]
  },
  {
   "cell_type": "code",
   "execution_count": null,
   "metadata": {},
   "outputs": [],
   "source": [
    "df=get_dataframe_from_filepath(filepaths[0])\n",
    "df['ForeignPort'].unique()"
   ]
  },
  {
   "cell_type": "code",
   "execution_count": null,
   "metadata": {},
   "outputs": [],
   "source": [
    "unique_scenarios_dict={}\n",
    "for index in range(len(filenames)):\n",
    "    scenario = \"_\".join(filenames[index].split('_')[:5])\n",
    "    if \"l4s\" in scenario:\n",
    "        scenario = \"_\".join(filenames[index].split('_')[:4])\n",
    "    if scenario in unique_scenarios_dict:\n",
    "        unique_scenarios_dict[scenario].append(filedict[filenames[index]])\n",
    "    else:\n",
    "        unique_scenarios_dict[scenario]=[filedict[filenames[index]]]\n"
   ]
  },
  {
   "cell_type": "code",
   "execution_count": null,
   "metadata": {},
   "outputs": [],
   "source": [
    "unique_scenarios_dict"
   ]
  },
  {
   "cell_type": "code",
   "execution_count": null,
   "metadata": {},
   "outputs": [],
   "source": [
    "from utils.plotter import  plot_siftr_graph"
   ]
  },
  {
   "cell_type": "code",
   "execution_count": null,
   "metadata": {},
   "outputs": [],
   "source": [
    "for scenario in unique_scenarios_dict.keys():\n",
    "\n",
    "    print()\n",
    "    print(\"Start New Scenario\")\n",
    "    print(scenario)\n",
    "    print(unique_scenarios_dict[scenario])\n",
    "\n",
    "    tcp_traffic = unique_scenarios_dict[scenario][0]\n",
    "    udp_traffic = unique_scenarios_dict[scenario][1]\n",
    "\n",
    "    print(\"tcp_traffic\",tcp_traffic)\n",
    "    print(\"udp_traffic\",udp_traffic)\n",
    "\n",
    "\n",
    "    ttf = get_dataframe_from_filepath(tcp_traffic)\n",
    "    utf = get_dataframe_from_filepath(udp_traffic)\n",
    "\n",
    "    ttf = ttf[ttf['ForeignPort'] == \"5101\"]\n",
    "    utf = utf[utf['ForeignPort'] == \"5101\"]\n",
    "\n",
    "    # Define paths\n",
    "    paths = {\n",
    "        \"NEWRENO\": ttf,\n",
    "        \"UDP\": utf,\n",
    "    }\n",
    "\n",
    "    print_rtt_stats(paths=paths,scenario=scenario)\n",
    "    save_rtt_stats(paths=paths,scenario=scenario,stats_directory=stats_directory)\n",
    "\n",
    "\n",
    "\n",
    "    plot_siftr_graph(paths=paths,\n",
    "                    ycolumn=\"SmoothedRTT\",\n",
    "                    title=f\"{scenario} SmoothedRTT\",\n",
    "                    xlabel=\"Time (s)\",\n",
    "                    ylabel=\"SmoothedRTT (ms)\",\n",
    "                    filename=f'{scenario}_SmoothedRTT',\n",
    "                    graph_directory=graph_directory,\n",
    "    )\n",
    "\n",
    "\n",
    "\n",
    "\n",
    "    plot_siftr_graph(paths=paths,\n",
    "                    ycolumn=\"CongestionWindow\",\n",
    "                    title=f\"{scenario} CongestionWindow\",\n",
    "                    xlabel=\"Time (s)\",\n",
    "                    ylabel=\"Congestion Window (Bytes)\",\n",
    "                    filename=f'{scenario}_CWND',\n",
    "                    graph_directory=graph_directory,\n",
    "    )\n"
   ]
  },
  {
   "cell_type": "code",
   "execution_count": null,
   "metadata": {},
   "outputs": [],
   "source": []
  }
 ],
 "metadata": {
  "kernelspec": {
   "display_name": "base",
   "language": "python",
   "name": "python3"
  },
  "language_info": {
   "codemirror_mode": {
    "name": "ipython",
    "version": 3
   },
   "file_extension": ".py",
   "mimetype": "text/x-python",
   "name": "python",
   "nbconvert_exporter": "python",
   "pygments_lexer": "ipython3",
   "version": "3.12.7"
  }
 },
 "nbformat": 4,
 "nbformat_minor": 2
}
