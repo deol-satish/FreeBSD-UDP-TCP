{
 "cells": [
  {
   "cell_type": "code",
   "execution_count": null,
   "metadata": {},
   "outputs": [],
   "source": [
    "rm *.pcap; rm *log; rm *json; rm *.out"
   ]
  },
  {
   "cell_type": "code",
   "execution_count": null,
   "metadata": {},
   "outputs": [],
   "source": [
    "cd /mnt/c/Users/deols/OneDrive/Documents/GitHub/FreeBSD-L4S-Experiments/New\\ Setup"
   ]
  },
  {
   "cell_type": "code",
   "execution_count": null,
   "metadata": {},
   "outputs": [],
   "source": [
    "iperf3 -s -p 5101 --rcv-timeout 3600000\n",
    "killall iperf3"
   ]
  },
  {
   "cell_type": "code",
   "execution_count": null,
   "metadata": {},
   "outputs": [],
   "source": [
    "find ./ -type f -exec dos2unix {} \\;"
   ]
  },
  {
   "cell_type": "code",
   "execution_count": null,
   "metadata": {},
   "outputs": [],
   "source": [
    "csh copy_keys.sh 192.168.56.1 deolubuntu\n",
    "csh test_copy_confs.sh"
   ]
  },
  {
   "cell_type": "code",
   "execution_count": null,
   "metadata": {},
   "outputs": [],
   "source": [
    "iperf3 -s -p 5101 --rcv-timeout 18000000"
   ]
  },
  {
   "cell_type": "code",
   "execution_count": null,
   "metadata": {},
   "outputs": [],
   "source": [
    "iperf3 -s --rcv-timeout 18000000"
   ]
  },
  {
   "cell_type": "markdown",
   "metadata": {},
   "source": [
    "WSL Instructions: ssh -p 3322 -i ~/.ssh/mptcprootkey root@192.168.56.1"
   ]
  },
  {
   "cell_type": "code",
   "execution_count": null,
   "metadata": {},
   "outputs": [],
   "source": [
    "cd /mnt/g/Github/FreeBSD-EXP-Condensed"
   ]
  },
  {
   "cell_type": "code",
   "execution_count": null,
   "metadata": {},
   "outputs": [],
   "source": [
    "ssh -p 3322 -i ~/.ssh/mptcprootkey root@192.168.56.1"
   ]
  },
  {
   "cell_type": "code",
   "execution_count": null,
   "metadata": {},
   "outputs": [],
   "source": [
    "ssh -p 3323 -i ~/.ssh/mptcprootkey root@192.168.56.1"
   ]
  },
  {
   "cell_type": "code",
   "execution_count": null,
   "metadata": {},
   "outputs": [],
   "source": [
    "ssh -p 4422 -i ~/.ssh/mptcprootkey root@192.168.56.1"
   ]
  },
  {
   "cell_type": "code",
   "execution_count": null,
   "metadata": {},
   "outputs": [],
   "source": [
    "ssh -p 4423 -i ~/.ssh/mptcprootkey root@192.168.56.1"
   ]
  },
  {
   "cell_type": "code",
   "execution_count": null,
   "metadata": {},
   "outputs": [],
   "source": [
    "ssh -p 4422 -i .ssh/mptcprootkey root@localhost"
   ]
  },
  {
   "cell_type": "code",
   "execution_count": null,
   "metadata": {},
   "outputs": [],
   "source": []
  },
  {
   "cell_type": "code",
   "execution_count": null,
   "metadata": {},
   "outputs": [],
   "source": [
    "#To enable ECN, run the following command as the root user:\n",
    "sysctl net.inet.tcp.ecn.enable=1\n",
    "\n",
    "#To enable Accurate ECN Feedback, run the following command as the root user:\n",
    "sysctl net.inet.tcp.ecn.enable=3\n",
    "\n",
    "#mainly on test1 VM\n"
   ]
  },
  {
   "cell_type": "code",
   "execution_count": null,
   "metadata": {},
   "outputs": [],
   "source": [
    "git checkout origin/syscalldrl;git pull origin syscalldrl;"
   ]
  },
  {
   "cell_type": "code",
   "execution_count": null,
   "metadata": {},
   "outputs": [],
   "source": [
    "rm *.siftr.log;rm *.pcap;rm *.out"
   ]
  },
  {
   "cell_type": "markdown",
   "metadata": {},
   "source": [
    "### Commands to enable different AQMs"
   ]
  },
  {
   "cell_type": "code",
   "execution_count": null,
   "metadata": {},
   "outputs": [],
   "source": [
    "ipfw -f flush;ipfw pipe 1 config bw 10Mbps delay 20ms codel;ipfw add 100 pipe 1 ip from any to any"
   ]
  },
  {
   "cell_type": "code",
   "execution_count": null,
   "metadata": {},
   "outputs": [],
   "source": [
    "ipfw -f flush;ipfw pipe 1 config bw 10Mbps delay 20ms pie;ipfw add 100 pipe 1 ip from any to any"
   ]
  },
  {
   "cell_type": "code",
   "execution_count": null,
   "metadata": {},
   "outputs": [],
   "source": [
    "ipfw -f flush;ipfw pipe 1 config bw 10Mbits/s delay 20ms;ipfw sched 1 config pipe 1 type fq_pie ecn;ipfw queue 1 config sched 1;ipfw add 100 queue 1 ip from 172.16.0.0/16 to 172.16.0.0/16"
   ]
  },
  {
   "cell_type": "code",
   "execution_count": null,
   "metadata": {},
   "outputs": [],
   "source": [
    "ipfw -f flush;ipfw pipe 1 config bw 10Mbits/s delay 20ms;ipfw sched 1 config pipe 1 type fq_codel ecn;ipfw queue 1 config sched 1;ipfw add 100 queue 1 ip from 172.16.0.0/16 to 172.16.0.0/16"
   ]
  },
  {
   "cell_type": "code",
   "execution_count": null,
   "metadata": {},
   "outputs": [],
   "source": [
    "ipfw -f flush;ipfw pipe 1 config bw 10Mbits/s delay 20ms ; ipfw sched 1 config pipe 1 type l4s ecn ; ipfw queue 1 config sched 1 ; ipfw add 100 queue 1 ip from 172.16.0.0/16 to 172.16.0.0/16"
   ]
  },
  {
   "cell_type": "markdown",
   "metadata": {},
   "source": [
    "### Copy all files"
   ]
  },
  {
   "cell_type": "code",
   "execution_count": null,
   "metadata": {},
   "outputs": [],
   "source": [
    "sudo scp -P 4422 -p -i ~/.ssh/mptcprootkey root@192.168.56.1:*.txt ./"
   ]
  },
  {
   "cell_type": "code",
   "execution_count": null,
   "metadata": {},
   "outputs": [],
   "source": [
    "sudo scp -P 3322 -p -i ~/.ssh/mptcprootkey root@192.168.56.1:*.siftr.log ./datatest1; sudo scp -P 3322 -p -i ~/.ssh/mptcprootkey root@192.168.56.1:*.pcap ./datatest1;sudo scp -P 3322 -p -i ~/.ssh/mptcprootkey root@192.168.56.1:*.out ./datatest1"
   ]
  },
  {
   "cell_type": "code",
   "execution_count": null,
   "metadata": {},
   "outputs": [],
   "source": [
    "sudo scp -P 3323 -p -i ~/.ssh/mptcprootkey root@192.168.56.1:*.siftr.log ./datatest2; sudo scp -P 3323 -p -i ~/.ssh/mptcprootkey root@192.168.56.1:*.pcap ./datatest2;sudo scp -P 3323 -p -i ~/.ssh/mptcprootkey root@192.168.56.1:*.out ./datatest2"
   ]
  },
  {
   "cell_type": "markdown",
   "metadata": {},
   "source": [
    "Build Kernel Install Kernel"
   ]
  },
  {
   "cell_type": "code",
   "execution_count": null,
   "metadata": {},
   "outputs": [],
   "source": [
    "git checkout origin/l4smain;git pull origin l4smain"
   ]
  },
  {
   "cell_type": "code",
   "execution_count": null,
   "metadata": {},
   "outputs": [],
   "source": [
    "git checkout origin/llmdev;git pull origin llmdev"
   ]
  },
  {
   "cell_type": "markdown",
   "metadata": {},
   "source": [
    "### Create random.file"
   ]
  },
  {
   "cell_type": "code",
   "execution_count": null,
   "metadata": {},
   "outputs": [],
   "source": [
    "dd if=/dev/random of=random.file bs=1M count=20"
   ]
  },
  {
   "cell_type": "markdown",
   "metadata": {},
   "source": [
    "### Copy Demo Video file for rsync"
   ]
  },
  {
   "cell_type": "code",
   "execution_count": null,
   "metadata": {},
   "outputs": [],
   "source": [
    "rsync -e \"ssh -i ~/.ssh/mptcprootkey -o StrictHostKeyChecking=no\" --progress random.file 172.16.1.2:"
   ]
  },
  {
   "cell_type": "markdown",
   "metadata": {},
   "source": [
    "### Output debug message"
   ]
  },
  {
   "cell_type": "code",
   "execution_count": null,
   "metadata": {},
   "outputs": [],
   "source": [
    "dmesg > ecn_output.txt"
   ]
  },
  {
   "cell_type": "markdown",
   "metadata": {},
   "source": [
    "### Enable ECN in FQ-PIE"
   ]
  },
  {
   "cell_type": "code",
   "execution_count": null,
   "metadata": {},
   "outputs": [],
   "source": [
    "scp -P 3322 -p -i ~/.ssh/mptcprootkey demo.mp4 root@192.168.56.1:"
   ]
  },
  {
   "cell_type": "code",
   "execution_count": null,
   "metadata": {},
   "outputs": [],
   "source": [
    "iperf3 -s -p 5101 --rcv-timeout 3600000"
   ]
  },
  {
   "cell_type": "code",
   "execution_count": null,
   "metadata": {},
   "outputs": [],
   "source": [
    "iperf3 -s -p 5102 --rcv-timeout 3600000"
   ]
  },
  {
   "cell_type": "code",
   "execution_count": null,
   "metadata": {},
   "outputs": [],
   "source": [
    "sudo scp -P 4422 -p -i ~/.ssh/mptcprootkey root@192.168.56.1:*.txt ./"
   ]
  },
  {
   "cell_type": "code",
   "execution_count": null,
   "metadata": {},
   "outputs": [],
   "source": [
    "git checkout origin/midl4stest;git pull origin midl4stest"
   ]
  },
  {
   "cell_type": "code",
   "execution_count": null,
   "metadata": {},
   "outputs": [],
   "source": [
    "git checkout origin/l4sdatacollection;git pull origin l4sdatacollection"
   ]
  },
  {
   "cell_type": "code",
   "execution_count": null,
   "metadata": {},
   "outputs": [],
   "source": [
    "git checkout origin/llmaqmdatacollection;git pull origin llmaqmdatacollection;"
   ]
  },
  {
   "cell_type": "code",
   "execution_count": null,
   "metadata": {},
   "outputs": [],
   "source": [
    "make buildkernel -j2 -DKERNFAST KERNCONF=L4SKERNEL;make installkernel -j2 -DKERNFAST KERNCONF=L4SKERNEL; shutdown -r now"
   ]
  },
  {
   "cell_type": "code",
   "execution_count": null,
   "metadata": {},
   "outputs": [],
   "source": [
    "ipfw -f flush;ipfw pipe 1 config bw 10Mbits/s delay 20ms ; ipfw sched 1 config pipe 1 type l4s ecn ; ipfw queue 1 config sched 1 ; ipfw add 100 queue 1 ip from 172.16.0.0/16 to 172.16.0.0/16"
   ]
  },
  {
   "cell_type": "code",
   "execution_count": null,
   "metadata": {},
   "outputs": [],
   "source": [
    "make buildkernel -j4 KERNCONF=L4SKERNEL;make installkernel -j4 KERNCONF=L4SKERNEL; shutdown -r now"
   ]
  },
  {
   "cell_type": "code",
   "execution_count": null,
   "metadata": {},
   "outputs": [],
   "source": [
    "cat /var/log/messages > messagesoutput.txt\n",
    "sudo scp -P 4422 -p -i ~/.ssh/mptcprootkey root@192.168.56.1:/var/log/*.txt ./\n",
    "sudo scp -P 4422 -p -i ~/.ssh/mptcprootkey root@192.168.56.1:messagesoutput.txt ./"
   ]
  },
  {
   "cell_type": "code",
   "execution_count": null,
   "metadata": {},
   "outputs": [],
   "source": [
    "include\t\tGENERIC\n",
    "\n",
    "options\t\tKDB\n",
    "options\t\tDDB\n",
    "\n",
    "options\t\tALQ\n",
    "\n",
    "options\t\tBREAK_TO_DEBUGGER\n",
    "options \tALT_BREAK_TO_DEBUGGER\n",
    "\n",
    "options \tIPFIREWALL\n",
    "options \tIPFIREWALL_DEFAULT_TO_ACCEPT\n",
    "\n",
    "nooptions\tINET6\n",
    "nooptions\tIPSEC"
   ]
  },
  {
   "cell_type": "code",
   "execution_count": null,
   "metadata": {},
   "outputs": [],
   "source": [
    "typedef uint32_t aqm_time_t;\n",
    "typedef int32_t aqm_stime_t;"
   ]
  }
 ],
 "metadata": {
  "kernelspec": {
   "display_name": "base",
   "language": "python",
   "name": "python3"
  },
  "language_info": {
   "name": "python",
   "version": "3.11.7"
  },
  "orig_nbformat": 4
 },
 "nbformat": 4,
 "nbformat_minor": 2
}
