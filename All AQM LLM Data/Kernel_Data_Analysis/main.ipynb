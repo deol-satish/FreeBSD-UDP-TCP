{
 "cells": [
  {
   "cell_type": "code",
   "execution_count": 4,
   "metadata": {},
   "outputs": [],
   "source": [
    "# main.py\n",
    "import os\n",
    "from utils.data_preprocessing import fq_pie_pre_process_extract, l4s_pre_process_extract, trim_df"
   ]
  },
  {
   "cell_type": "code",
   "execution_count": 5,
   "metadata": {},
   "outputs": [],
   "source": [
    "columns_to_use = [\n",
    "    'queue_type', 'burst_allowance', 'drop_probability', 'current_queue_delay',\n",
    "    'accumulated_probability', 'average_dequeue_time', 'length_in_bytes', 'total_drops', 'packet_length'\n",
    "]"
   ]
  },
  {
   "cell_type": "code",
   "execution_count": 6,
   "metadata": {},
   "outputs": [],
   "source": [
    "def get_stats(df, column):\n",
    "    median = df[column].median()\n",
    "    mean = df[column].mean()\n",
    "    q25 = df[column].quantile(0.25)\n",
    "    q75 = df[column].quantile(0.75)\n",
    "    minimum = df[column].min()\n",
    "    maximum = df[column].max()\n",
    "\n",
    "    # Printing all the values\n",
    "    print(f\"Median: {median}\")\n",
    "    print(f\"Mean: {mean}\")\n",
    "    print(f\"25th Percentile (Q1): {q25}\")\n",
    "    print(f\"75th Percentile (Q3): {q75}\")\n",
    "    print(f\"Minimum: {minimum}\")\n",
    "    print(f\"Maximum: {maximum}\")\n"
   ]
  },
  {
   "cell_type": "code",
   "execution_count": 7,
   "metadata": {},
   "outputs": [],
   "source": [
    "def functionfilenameandpath(path='./', extension='.txt'):\n",
    "    filepaths = []\n",
    "    filenames = []\n",
    "\n",
    "    for root, _, files_list in os.walk(path):\n",
    "        for file_name in files_list:\n",
    "            if file_name.endswith(extension):\n",
    "                file_name_path = os.path.join(root, file_name)\n",
    "                filenames.append(file_name)\n",
    "                filepaths.append(file_name_path)\n",
    "\n",
    "    return filenames, filepaths\n",
    "\n",
    "filenames, filepaths = functionfilenameandpath(path='../router_data', extension='.txt')"
   ]
  },
  {
   "cell_type": "code",
   "execution_count": 8,
   "metadata": {},
   "outputs": [
    {
     "data": {
      "text/plain": [
       "[]"
      ]
     },
     "execution_count": 8,
     "metadata": {},
     "output_type": "execute_result"
    }
   ],
   "source": [
    "filenames"
   ]
  },
  {
   "cell_type": "code",
   "execution_count": 6,
   "metadata": {},
   "outputs": [
    {
     "name": "stdout",
     "output_type": "stream",
     "text": [
      "\n",
      "*** Start ****** Start ****** Start ***\n",
      "../router_data\\kernel_data_1_l4s_10Mbps_10ms_ecn.txt\n",
      "dequeu_actions dequeue_action\n",
      "0    204939\n",
      "1       266\n",
      "2        25\n",
      "Name: count, dtype: int64\n",
      "queue_type queue_type\n",
      "0    166520\n",
      "1     38710\n",
      "Name: count, dtype: int64\n",
      "Median: 0.0\n",
      "Mean: 45821.70309872688\n",
      "25th Percentile (Q1): 0.0\n",
      "75th Percentile (Q3): 0.0\n",
      "Minimum: 0\n",
      "Maximum: 1260000\n",
      "Median: 20000.0\n",
      "Mean: 145957.63368638593\n",
      "25th Percentile (Q1): 0.0\n",
      "75th Percentile (Q3): 270000.0\n",
      "Minimum: 0\n",
      "Maximum: 1260000\n",
      "\n",
      "*** END ****** END ****** END ***\n",
      "\n",
      "*** Start ****** Start ****** Start ***\n",
      "../router_data\\kernel_data_2_l4s_10Mbps_10ms_ecn.txt\n",
      "dequeu_actions dequeue_action\n",
      "0.0    204744\n",
      "1.0       432\n",
      "2.0        14\n",
      "Name: count, dtype: int64\n",
      "queue_type queue_type\n",
      "0    161248\n",
      "1     43943\n",
      "Name: count, dtype: int64\n",
      "Median: 0.0\n",
      "Mean: 52418.38658463981\n",
      "25th Percentile (Q1): 0.0\n",
      "75th Percentile (Q3): 0.0\n",
      "Minimum: 0\n",
      "Maximum: 1060000\n",
      "Median: 10000.0\n",
      "Mean: 130495.18694672645\n",
      "25th Percentile (Q1): 0.0\n",
      "75th Percentile (Q3): 230000.0\n",
      "Minimum: 0\n",
      "Maximum: 1060000\n",
      "\n",
      "*** END ****** END ****** END ***\n"
     ]
    }
   ],
   "source": [
    "for filepath in filepaths:\n",
    "    \n",
    "    l4s_df = l4s_pre_process_extract(input_file=filepath,aqm='l4s')\n",
    "    if l4s_df['current_queue_delay'].mean() < 70000 and len(l4s_df['dequeue_action'].unique()) > 1:\n",
    "        print()\n",
    "        print(\"*** Start ***\"*3)\n",
    "        print(filepath)\n",
    "        print(\"dequeu_actions\",l4s_df['dequeue_action'].value_counts())\n",
    "        print(\"queue_type\",l4s_df['queue_type'].value_counts())\n",
    "        get_stats(l4s_df[l4s_df['queue_type'] == 0], columns_to_use[3])\n",
    "        get_stats(l4s_df[l4s_df['queue_type'] == 1], columns_to_use[3])\n",
    "        # get_stats(l4s_df, columns_to_use[3])\n",
    "        print()\n",
    "        print(\"*** END ***\"*3)\n",
    "    \n"
   ]
  },
  {
   "cell_type": "code",
   "execution_count": null,
   "metadata": {},
   "outputs": [],
   "source": []
  },
  {
   "cell_type": "code",
   "execution_count": null,
   "metadata": {},
   "outputs": [],
   "source": []
  },
  {
   "cell_type": "code",
   "execution_count": 108,
   "metadata": {},
   "outputs": [],
   "source": [
    "input_file = './Data/llmrawdata-llmused.txt'\n",
    "# input_file = './Data/llmrawdata.txt'"
   ]
  },
  {
   "cell_type": "code",
   "execution_count": 109,
   "metadata": {},
   "outputs": [],
   "source": [
    "fq_pie_df = fq_pie_pre_process_extract(input_file=input_file,aqm='fq_pie')\n",
    "l4s_df = l4s_pre_process_extract(input_file=input_file,aqm='l4s')"
   ]
  },
  {
   "cell_type": "code",
   "execution_count": 111,
   "metadata": {},
   "outputs": [
    {
     "data": {
      "text/plain": [
       "3"
      ]
     },
     "execution_count": 111,
     "metadata": {},
     "output_type": "execute_result"
    }
   ],
   "source": [
    "len(l4s_df['dequeue_action'].unique())"
   ]
  },
  {
   "cell_type": "code",
   "execution_count": 88,
   "metadata": {},
   "outputs": [
    {
     "data": {
      "text/plain": [
       "queue_type\n",
       "0    247958\n",
       "1     78006\n",
       "Name: count, dtype: int64"
      ]
     },
     "execution_count": 88,
     "metadata": {},
     "output_type": "execute_result"
    }
   ],
   "source": [
    "l4s_df['queue_type'].value_counts()"
   ]
  },
  {
   "cell_type": "code",
   "execution_count": null,
   "metadata": {},
   "outputs": [
    {
     "data": {
      "text/plain": [
       "dequeue_action\n",
       "0    325964\n",
       "Name: count, dtype: int64"
      ]
     },
     "execution_count": 89,
     "metadata": {},
     "output_type": "execute_result"
    }
   ],
   "source": [
    "l4s_df['dequeue_action'].value_counts()"
   ]
  },
  {
   "cell_type": "code",
   "execution_count": 90,
   "metadata": {},
   "outputs": [
    {
     "name": "stdout",
     "output_type": "stream",
     "text": [
      "count       0\n",
      "unique      0\n",
      "top       NaN\n",
      "freq      NaN\n",
      "Name: current_queue_delay, dtype: object\n",
      "queue delay mean nan\n"
     ]
    }
   ],
   "source": [
    "import pandas as pd\n",
    "\n",
    "# Set the display format for floating point numbers\n",
    "pd.options.display.float_format = '{:,.4f}'.format\n",
    "\n",
    "# Now display the summary statistics\n",
    "print(fq_pie_df[columns_to_use[3]].describe())\n",
    "print(\"queue delay mean\",fq_pie_df[columns_to_use[3]].mean())\n"
   ]
  },
  {
   "cell_type": "code",
   "execution_count": 91,
   "metadata": {},
   "outputs": [
    {
     "name": "stdout",
     "output_type": "stream",
     "text": [
      "Median: nan\n",
      "Mean: nan\n",
      "25th Percentile (Q1): nan\n",
      "75th Percentile (Q3): nan\n",
      "Minimum: nan\n",
      "Maximum: nan\n"
     ]
    }
   ],
   "source": [
    "get_stats(fq_pie_df, columns_to_use[3])"
   ]
  },
  {
   "cell_type": "code",
   "execution_count": 92,
   "metadata": {},
   "outputs": [
    {
     "name": "stdout",
     "output_type": "stream",
     "text": [
      "count   325,964.0000\n",
      "mean      5,055.7424\n",
      "std      17,634.2174\n",
      "min           0.0000\n",
      "25%           0.0000\n",
      "50%           0.0000\n",
      "75%           0.0000\n",
      "max     590,000.0000\n",
      "Name: current_queue_delay, dtype: float64\n",
      "queue delay median 0.0\n"
     ]
    }
   ],
   "source": [
    "print(l4s_df[columns_to_use[3]].describe())\n",
    "print(\"queue delay median\",l4s_df[columns_to_use[3]].median())"
   ]
  },
  {
   "cell_type": "code",
   "execution_count": 93,
   "metadata": {},
   "outputs": [
    {
     "name": "stdout",
     "output_type": "stream",
     "text": [
      "Median: 0.0\n",
      "Mean: 5055.742351916162\n",
      "25th Percentile (Q1): 0.0\n",
      "75th Percentile (Q3): 0.0\n",
      "Minimum: 0\n",
      "Maximum: 590000\n"
     ]
    }
   ],
   "source": [
    "get_stats(l4s_df, columns_to_use[3])"
   ]
  },
  {
   "cell_type": "code",
   "execution_count": 94,
   "metadata": {},
   "outputs": [
    {
     "name": "stdout",
     "output_type": "stream",
     "text": [
      "Median: 0.0\n",
      "Mean: 4113.398236798167\n",
      "25th Percentile (Q1): 0.0\n",
      "75th Percentile (Q3): 0.0\n",
      "Minimum: 0\n",
      "Maximum: 590000\n"
     ]
    }
   ],
   "source": [
    "get_stats(l4s_df[l4s_df['queue_type'] == 0], columns_to_use[3])"
   ]
  },
  {
   "cell_type": "code",
   "execution_count": 95,
   "metadata": {},
   "outputs": [
    {
     "name": "stdout",
     "output_type": "stream",
     "text": [
      "Median: 0.0\n",
      "Mean: 8051.175550598672\n",
      "25th Percentile (Q1): 0.0\n",
      "75th Percentile (Q3): 0.0\n",
      "Minimum: 0\n",
      "Maximum: 570000\n"
     ]
    }
   ],
   "source": [
    "get_stats(l4s_df[l4s_df['queue_type'] == 1], columns_to_use[3])"
   ]
  }
 ],
 "metadata": {
  "kernelspec": {
   "display_name": "base",
   "language": "python",
   "name": "python3"
  },
  "language_info": {
   "codemirror_mode": {
    "name": "ipython",
    "version": 3
   },
   "file_extension": ".py",
   "mimetype": "text/x-python",
   "name": "python",
   "nbconvert_exporter": "python",
   "pygments_lexer": "ipython3",
   "version": "3.12.7"
  }
 },
 "nbformat": 4,
 "nbformat_minor": 2
}
