{
 "cells": [
  {
   "cell_type": "code",
   "execution_count": 1,
   "metadata": {},
   "outputs": [],
   "source": [
    "import numpy as np\n",
    "import pandas as pd\n",
    "import matplotlib.pyplot as plt\n",
    "import time\n",
    "import math\n",
    "import random\n",
    "import re\n",
    "import os\n",
    "import sys\n",
    "import seaborn as sns"
   ]
  },
  {
   "cell_type": "code",
   "execution_count": 2,
   "metadata": {},
   "outputs": [],
   "source": [
    "from utils.util import find_files_with_extension"
   ]
  },
  {
   "cell_type": "code",
   "execution_count": 3,
   "metadata": {},
   "outputs": [],
   "source": [
    "# Load data\n",
    "mainpth=\"./\"\n",
    "folderpaths = [mainpth+'./datatest1']\n",
    "filenames, filepaths, filedict = find_files_with_extension(folderpaths, '.log')\n"
   ]
  },
  {
   "cell_type": "code",
   "execution_count": 4,
   "metadata": {},
   "outputs": [
    {
     "data": {
      "text/plain": [
       "{'fq_codel_10Mbps_1ms_ecn.siftr.log': '././datatest1\\\\fq_codel_10Mbps_1ms_ecn.siftr.log',\n",
       " 'fq_codel_1Mbps_1ms_ecn.siftr.log': '././datatest1\\\\fq_codel_1Mbps_1ms_ecn.siftr.log',\n",
       " 'fq_pie_10Mbps_1ms_ecn.siftr.log': '././datatest1\\\\fq_pie_10Mbps_1ms_ecn.siftr.log',\n",
       " 'fq_pie_1Mbps_1ms_ecn.siftr.log': '././datatest1\\\\fq_pie_1Mbps_1ms_ecn.siftr.log',\n",
       " 'l4s_10Mbps_1ms_ecn.siftr.log': '././datatest1\\\\l4s_10Mbps_1ms_ecn.siftr.log',\n",
       " 'l4s_1Mbps_1ms_ecn.siftr.log': '././datatest1\\\\l4s_1Mbps_1ms_ecn.siftr.log'}"
      ]
     },
     "execution_count": 4,
     "metadata": {},
     "output_type": "execute_result"
    }
   ],
   "source": [
    "filedict"
   ]
  },
  {
   "cell_type": "code",
   "execution_count": 5,
   "metadata": {},
   "outputs": [],
   "source": [
    "from utils.util import  get_dataframe_from_filepath,calculate_statistics,extract_unique_mbps_and_ms"
   ]
  },
  {
   "cell_type": "code",
   "execution_count": 6,
   "metadata": {},
   "outputs": [
    {
     "name": "stdout",
     "output_type": "stream",
     "text": [
      "Unique Mbps and ms Combinations:\n",
      "1 Mbps, 1 ms\n",
      "10 Mbps, 1 ms\n"
     ]
    }
   ],
   "source": [
    "import re\n",
    "import os\n",
    "\n",
    "from utils.util import extract_unique_mbps_and_ms\n",
    "\n",
    "# Call the function and print unique combinations\n",
    "unique_combinations = extract_unique_mbps_and_ms(folderpaths)\n",
    "print(\"Unique Mbps and ms Combinations:\")\n",
    "for mbps, ms in sorted(unique_combinations):\n",
    "    print(f'{mbps} Mbps, {ms} ms')\n"
   ]
  },
  {
   "cell_type": "code",
   "execution_count": 7,
   "metadata": {},
   "outputs": [
    {
     "name": "stdout",
     "output_type": "stream",
     "text": [
      "././datatest1\\fq_codel_10Mbps_1ms_ecn.siftr.log\n"
     ]
    },
    {
     "data": {
      "text/plain": [
       "array(['51174', '51178', '51154', '5101', '51228', '5102', '51182',\n",
       "       '5103', '51160', '5104', '51148'], dtype=object)"
      ]
     },
     "execution_count": 7,
     "metadata": {},
     "output_type": "execute_result"
    }
   ],
   "source": [
    "df=get_dataframe_from_filepath(filepaths[0])\n",
    "df['ForeignPort'].unique()"
   ]
  },
  {
   "cell_type": "code",
   "execution_count": 8,
   "metadata": {},
   "outputs": [
    {
     "name": "stdout",
     "output_type": "stream",
     "text": [
      "././datatest1\\fq_codel_10Mbps_1ms_ecn.siftr.log\n",
      "Statistics saved to ./stats/fq_codel_10Mbps_1ms_ecn.siftr.log_statistics_results.txt\n",
      "././datatest1\\fq_codel_1Mbps_1ms_ecn.siftr.log\n",
      "Statistics saved to ./stats/fq_codel_1Mbps_1ms_ecn.siftr.log_statistics_results.txt\n",
      "././datatest1\\fq_pie_10Mbps_1ms_ecn.siftr.log\n",
      "Statistics saved to ./stats/fq_pie_10Mbps_1ms_ecn.siftr.log_statistics_results.txt\n",
      "././datatest1\\fq_pie_1Mbps_1ms_ecn.siftr.log\n",
      "Statistics saved to ./stats/fq_pie_1Mbps_1ms_ecn.siftr.log_statistics_results.txt\n",
      "././datatest1\\l4s_10Mbps_1ms_ecn.siftr.log\n",
      "Statistics saved to ./stats/l4s_10Mbps_1ms_ecn.siftr.log_statistics_results.txt\n",
      "././datatest1\\l4s_1Mbps_1ms_ecn.siftr.log\n",
      "Statistics saved to ./stats/l4s_1Mbps_1ms_ecn.siftr.log_statistics_results.txt\n"
     ]
    }
   ],
   "source": [
    "for index in range(len(filenames)):\n",
    "\n",
    "\n",
    "    df = get_dataframe_from_filepath(filepaths[index])\n",
    "\n",
    "\n",
    "\n",
    "    # first path ForeignPort = 5101\n",
    "    dfPath1 = df.loc[(df['ForeignPort'] == '5101')]\n",
    "\n",
    "    # second path localip = 5102\n",
    "    dfPath2 = df.loc[(df['ForeignPort'] == '5102')]\n",
    "\n",
    "    # third path ForeignPort = 5101\n",
    "    dfPath3 = df.loc[(df['ForeignPort'] == '5103' )]\n",
    "\n",
    "    # fourth path localip = 5102\n",
    "    dfPath4 = df.loc[(df['ForeignPort'] == '5104')]\n",
    "\n",
    "\n",
    "    # Calculate statistics for each DataFrame\n",
    "    statistics_dfPath1 = calculate_statistics(dfPath1)\n",
    "    statistics_dfPath2 = calculate_statistics(dfPath2)\n",
    "    statistics_dfPath3 = calculate_statistics(dfPath3)\n",
    "    statistics_dfPath4 = calculate_statistics(dfPath4)\n",
    "\n",
    "    # Define the filename to save results\n",
    "    stats_filename = \"./stats/\"+filenames[index]+'_statistics_results.txt'\n",
    "\n",
    "    # Function to save statistics to a file\n",
    "    def save_statistics_to_file(stats_filename, statistics,title):\n",
    "        with open(stats_filename, 'a') as f:\n",
    "            f.write(\"Statistics for \"+title+\":\\n\")\n",
    "            for key, value in statistics.items():\n",
    "                f.write(f\"{key}: {value}\\n\")\n",
    "            f.write(\"\\n\")\n",
    "\n",
    "    # Save statistics for each DataFrame to the file\n",
    "    save_statistics_to_file(stats_filename, statistics_dfPath1, \"TCP Stream 1\")\n",
    "    save_statistics_to_file(stats_filename, statistics_dfPath2, \"TCP Stream 2\")\n",
    "    save_statistics_to_file(stats_filename, statistics_dfPath3, \"TCP Stream 3\")\n",
    "    save_statistics_to_file(stats_filename, statistics_dfPath4, \"TCP Stream 4\")\n",
    "\n",
    "    print(f\"Statistics saved to {stats_filename}\")\n",
    "    "
   ]
  }
 ],
 "metadata": {
  "kernelspec": {
   "display_name": "base",
   "language": "python",
   "name": "python3"
  },
  "language_info": {
   "codemirror_mode": {
    "name": "ipython",
    "version": 3
   },
   "file_extension": ".py",
   "mimetype": "text/x-python",
   "name": "python",
   "nbconvert_exporter": "python",
   "pygments_lexer": "ipython3",
   "version": "3.12.7"
  }
 },
 "nbformat": 4,
 "nbformat_minor": 2
}
